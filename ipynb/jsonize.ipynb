{
 "cells": [
  {
   "cell_type": "code",
   "execution_count": 1,
   "metadata": {},
   "outputs": [],
   "source": [
    "from pathlib import Path\n",
    "import json\n",
    "from functools import reduce\n",
    "import math\n",
    "import datetime as dt\n",
    "import pytz \n",
    "from itertools import product\n",
    "from collections import OrderedDict\n",
    "import time\n",
    "import re\n",
    "import sys\n",
    "\n",
    "import requests\n",
    "import numpy as np\n",
    "import pandas as pd\n",
    "import geopandas as gpd\n",
    "import shapely.ops as so\n",
    "\n",
    "%load_ext autoreload\n",
    "%autoreload 2\n",
    "\n",
    "sys.path.append('../')\n",
    "import affordability as af\n",
    "\n"
   ]
  },
  {
   "cell_type": "code",
   "execution_count": null,
   "metadata": {},
   "outputs": [],
   "source": [
    "def car_value(purchase_price, num_years):\n",
    "    \"\"\"\n",
    "    Depreciation at 40% for first year and 20%/year thereafter.\n",
    "    Taken from the Dog and Lemon guide at https://dogandlemon.com/articles/depreciation-new-zealand.\n",
    "    \"\"\"\n",
    "    x = purchase_price\n",
    "    n = num_years\n",
    "    k = math.floor(n)\n",
    "    kk = n - k\n",
    "    print(k, kk)\n",
    "    if n <= 0:\n",
    "        v = x\n",
    "    else:        \n",
    "        v = 0.80**(max(0, n-1))*0.6*x\n",
    "    return v\n",
    "\n",
    "car_value(73000, 14.2)"
   ]
  },
  {
   "cell_type": "markdown",
   "metadata": {},
   "source": [
    "# Aggregate regional rents to rental areas and write to JSON"
   ]
  },
  {
   "cell_type": "code",
   "execution_count": 2,
   "metadata": {},
   "outputs": [],
   "source": [
    "# Slice rental data from the following date to latest date\n",
    "\n",
    "def jsonize_rents(region, date):\n",
    "    \"\"\"\n",
    "    Given a region (string) and a date (YYYY-MM-DD string),\n",
    "    read the rents for the given region, slice them from the given date\n",
    "    to the latest date in the date, aggregate the rents by rental area and number of bedrooms\n",
    "    ('1', '2', '3', or '4'), and return the result as a dictionary of the form\n",
    "    rental area -> #bedrooms -> rent geometric mean.\n",
    "    Some of the mean rents could be ``None``.\n",
    "    \"\"\"\n",
    "    rents = af.get_data(region, 'rents_csv')\n",
    "    f = af.aggregate_rents(rents, date)\n",
    "    \n",
    "    # Drop 5+ bedrooms and round to nearest dollar\n",
    "    f = f[f['#bedrooms'] != '5+'].copy().round()\n",
    "    \n",
    "    # Replace NaN with None to make JSON-compatible \n",
    "    f = af.nan_to_none(f)\n",
    "    \n",
    "    # Save to dictionary of form rental area -> #bedrooms -> rent geo mean\n",
    "    d = {area: dict(g[['#bedrooms', 'rent_geo_mean']].values)\n",
    "      for area, g in f.groupby('rental_area')}\n",
    "\n",
    "    return d\n",
    "\n",
    "\n",
    "date = '2016-09-01'\n",
    "\n",
    "for region in af.REGIONS:\n",
    "    d = jsonize_rents(region, date)\n",
    "    path = af.get_path(region, 'rents_json')   \n",
    "    with path.open('w') as tgt:\n",
    "        json.dump(d, tgt)\n",
    "\n",
    "    "
   ]
  },
  {
   "cell_type": "markdown",
   "metadata": {},
   "source": [
    "# Compute roundtrip commute cost matrix and save to JSON matrix"
   ]
  },
  {
   "cell_type": "code",
   "execution_count": 7,
   "metadata": {
    "collapsed": true
   },
   "outputs": [],
   "source": [
    "def build_commute_costs(region):\n",
    "    \"\"\"\n",
    "    Consolidate the data in the commute CSV files for this region and \n",
    "    save it into one JSON master file of daily commute cost and time. \n",
    "    More specifically, save the dictionary \n",
    "    ``{'index_by_name': index_by_name, 'matrix': M}``, where \n",
    "    ``index_by_name`` is a dictionary with structure\n",
    "    area unit name -> row/column index in the lower-triangular half-matrix \n",
    "    ``M``, where ``M`` is encoded by a dictionary with structure\n",
    "    mode -> list of lists of cost-time pairs \n",
    "    such that ``M[mode][i][j]`` equals the cost in dollars\n",
    "    and the time in hours that it takes to travel round-trip by the \n",
    "    given mode (specified in the list ``MODES``)\n",
    "    from the centroid of the area unit with index ``i >= 0`` \n",
    "    to the centroid of the area unit with index ``j <= i``.\n",
    "    \"\"\"\n",
    "    # Get rental area names\n",
    "    rents = af.get_data(region, 'rents_csv')\n",
    "    names = sorted(rents['rental_area'].unique())\n",
    "    index_by_name = {name: i for (i, name) in enumerate(names)}\n",
    "    n = len(names)\n",
    "\n",
    "    # Create a commute matrix M with costs and durations\n",
    "    M = {mode: [[(None, None) for j in range(n)] for i in range(n)] \n",
    "      for mode in af.MODES}\n",
    "    frames = []\n",
    "    for mode in af.MODES:\n",
    "        f = af.get_data(region, 'commutes_' + mode)\n",
    "        f['mode'] = mode\n",
    "        f['orig_index'] = f['orig_name'].map(index_by_name)\n",
    "        f['dest_index'] = f['dest_name'].map(index_by_name)\n",
    "        \n",
    "        # Convert from meters to kilometers and seconds to hours\n",
    "        f['distance'] /= 1000\n",
    "        f['duration'] /= 3600\n",
    "\n",
    "        # Compute costs\n",
    "        if mode == 'transit':\n",
    "            # Use separate cost table\n",
    "            costs = af.get_data(region, 'transit_costs').rename(\n",
    "              columns={'card_fare': 'cost'})\n",
    "            f = f.merge(costs)\n",
    "            # Nullify costs with missing distances\n",
    "            cond = f['distance'].isnull()\n",
    "            f.loc[cond, 'cost'] = np.nan\n",
    "        else:\n",
    "            # Multiply distance by cost per distance\n",
    "            f['cost'] = af.COST_BY_MODE[mode]*f['distance']\n",
    "\n",
    "        frames.append(f[['mode', 'orig_index', 'dest_index', 'cost', 'duration']].copy())\n",
    "\n",
    "    f = pd.concat(frames)\n",
    "    return f\n",
    "\n",
    "    # Use f to create a lower-triangular half-matrix M of roundtrip commute costs and durations\n",
    "    f = af.nan_to_none(f)\n",
    "    M = {mode: [[(None, None) for j in range(i + 1)] for i in range(n)] \n",
    "      for mode in af.MODES}\n",
    "    for mode, oi, di, cost, dur in f.itertuples(index=False):\n",
    "        if \n",
    "    for mode in ['walking', 'bicyling', 'driving']:\n",
    "        for i in range(n):\n",
    "            for j in range(i + 1):\n",
    "                try:\n",
    "                    distance = M[mode][i][j][0] + M[mode][j][i][0]\n",
    "                    duration = M[mode][i][j][1] + M[mode][j][i][1]\n",
    "                    MM[mode][i][j] = (\n",
    "                      round(af.COST_BY_MODE[mode]*distance, 2),\n",
    "                      round(duration, 2)\n",
    "                      )\n",
    "                except TypeError:\n",
    "                    # Defaults to MM[mode][i][j] = (None, None) \n",
    "                    pass  \n",
    "    \n",
    "    \n",
    "    data = {'index_by_name': index_by_name, 'matrix': MM}\n",
    "    return data"
   ]
  },
  {
   "cell_type": "code",
   "execution_count": 11,
   "metadata": {},
   "outputs": [],
   "source": [
    "f = build_commute_costs('wellington')"
   ]
  },
  {
   "cell_type": "code",
   "execution_count": 14,
   "metadata": {},
   "outputs": [
    {
     "name": "stdout",
     "output_type": "stream",
     "text": [
      "          mode  orig_index  dest_index  cost  duration\n",
      "938  bicycling           0           1   0.0  6.420556\n",
      "956  bicycling           0           2   0.0  0.824444\n",
      "958  bicycling           0           3   0.0  1.555833\n",
      "927  bicycling           0           4   0.0  0.398056\n",
      "943  bicycling           0           5   0.0  2.200278\n",
      "         mode  orig_index  dest_index  cost   duration\n",
      "1439  walking           3           1   0.0  12.970556\n",
      "1450  walking           3           0   0.0   2.940833\n",
      "1313  walking           2           1   0.0  15.197500\n",
      "1324  walking           2           0   0.0   1.382222\n",
      "483   walking           1           0   0.0  15.645000\n"
     ]
    }
   ],
   "source": [
    "cond1 = f['orig_index'] < f['dest_index']\n",
    "cond2 = f['orig_index'] > f['dest_index']\n",
    "f1 = f[cond1].copy().sort_values(['mode', 'orig_index', 'dest_index'])\n",
    "f2 = f[cond2].copy().sort_values(['mode', 'orig_index', 'dest_index'], \n",
    "  ascending=[True, False, False])\n",
    "print(f1.head())\n",
    "print(f2.tail())"
   ]
  },
  {
   "cell_type": "code",
   "execution_count": null,
   "metadata": {
    "collapsed": true
   },
   "outputs": [],
   "source": []
  }
 ],
 "metadata": {
  "kernelspec": {
   "display_name": "Python 3",
   "language": "python",
   "name": "python3"
  },
  "language_info": {
   "codemirror_mode": {
    "name": "ipython",
    "version": 3
   },
   "file_extension": ".py",
   "mimetype": "text/x-python",
   "name": "python",
   "nbconvert_exporter": "python",
   "pygments_lexer": "ipython3",
   "version": "3.5.2"
  }
 },
 "nbformat": 4,
 "nbformat_minor": 2
}
