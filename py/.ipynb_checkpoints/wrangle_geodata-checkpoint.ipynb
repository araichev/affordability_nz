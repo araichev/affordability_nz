{
 "cells": [
  {
   "cell_type": "code",
   "execution_count": 1,
   "metadata": {
    "collapsed": true
   },
   "outputs": [],
   "source": [
    "from pathlib import Path\n",
    "import json\n",
    "from functools import reduce\n",
    "import math\n",
    "import datetime as dt\n",
    "import pytz \n",
    "from itertools import product\n",
    "from collections import OrderedDict\n",
    "import time\n",
    "import sys\n",
    "\n",
    "import requests\n",
    "import numpy as np\n",
    "import pandas as pd\n",
    "import geopandas as gpd\n",
    "import shapely.ops as so\n",
    "\n",
    "import helpers as hp\n",
    "\n",
    "%load_ext autoreload\n",
    "%autoreload 2\n",
    "%matplotlib inline"
   ]
  },
  {
   "cell_type": "markdown",
   "metadata": {},
   "source": [
    "# Prepare table of 2001 area units and rental area units"
   ]
  },
  {
   "cell_type": "code",
   "execution_count": null,
   "metadata": {},
   "outputs": [],
   "source": [
    "# 2001 census area units\n",
    "path = hp.DATA_DIR/'collected'/'Geographical Table.csv'\n",
    "f = pd.read_csv(path, dtype={'SAU': str})\n",
    "f = f.rename(columns={\n",
    "    'SAU': 'au2001', \n",
    "    'SAU.Desc': 'au_name', \n",
    "    'TA': 'territory',\n",
    "    'Region': 'region',\n",
    "})\n",
    "del f['Water']\n",
    "f.head()\n",
    "\n",
    "# rental area units\n",
    "path = hp.DATA_DIR/'collected'/'Market Rent Areas.csv'\n",
    "g = pd.read_csv(path, dtype={'SAU': str})\n",
    "g = g.rename(columns={\n",
    "    'SAU': 'au2001', \n",
    "    'MARKET RENT DESCRIPTION': 'rental_area',\n",
    "    'TA': 'territory',\n",
    "    'AU NAME': 'au_name',\n",
    "})\n",
    "\n",
    "# Clean rental areas\n",
    "def clean(x):\n",
    "    y = x.split(' - ')\n",
    "    y = y[1] if 'District' not in y[1] else y[0]\n",
    "    return y\n",
    "\n",
    "g['rental_area'] = g['rental_area'].map(clean)\n",
    "\n",
    "\n",
    "f = f.merge(g[['au2001', 'rental_area']])\n",
    "\n",
    "path = hp.get_path('au2001_csv')\n",
    "f.to_csv(path, index=False)\n",
    "f.head()"
   ]
  },
  {
   "cell_type": "markdown",
   "metadata": {},
   "source": [
    "# Process area units and rental areas into GeoJSON"
   ]
  },
  {
   "cell_type": "code",
   "execution_count": null,
   "metadata": {
    "collapsed": true
   },
   "outputs": [],
   "source": [
    "# Read Shapefile\n",
    "\n",
    "path = hp.DATA_DIR/'collected'/'NZ_AU01_region_simplified'/'NZ_AU01_region.shp'\n",
    "au = gpd.read_file(str(path))\n",
    "au.crs = hp.CRS_NZGD49\n",
    "au = au.to_crs(hp.CRS_WGS84)\n",
    "au = au.rename(columns={'AU01': 'au2001', 'AU_DESC': 'au_name'})\n",
    "print(au.shape)\n",
    "print(au.head())\n",
    "au.head().plot()\n"
   ]
  },
  {
   "cell_type": "code",
   "execution_count": null,
   "metadata": {
    "collapsed": true
   },
   "outputs": [],
   "source": [
    "# Remove water area units\n",
    "\n",
    "pattern = r'ocean|strait|inlet|harbour'\n",
    "cond = au['au_name'].str.contains(pattern, case=False)\n",
    "au = au[~cond].copy()\n",
    "print(au.shape)\n",
    "au.head().plot()\n"
   ]
  },
  {
   "cell_type": "code",
   "execution_count": null,
   "metadata": {
    "collapsed": true
   },
   "outputs": [],
   "source": [
    "# Merge geodata and metadata, drop null regions, and write to file\n",
    "\n",
    "f = hp.get_data('au2001_csv')\n",
    "\n",
    "g = au.merge(f[['au2001', 'territory', 'region', 'rental_area']])\n",
    "g = g[g['region'].notnull()].copy()\n",
    "\n",
    "path = hp.get_path('au2001')\n",
    "with path.open('w') as tgt:\n",
    "    tgt.write(g.to_json())\n",
    "\n",
    "g.head()"
   ]
  },
  {
   "cell_type": "markdown",
   "metadata": {},
   "source": [
    "# Create geodata for rental areas "
   ]
  },
  {
   "cell_type": "code",
   "execution_count": null,
   "metadata": {
    "collapsed": true
   },
   "outputs": [],
   "source": [
    "# Dissolve area units by area unit group\n",
    "\n",
    "au = get_data('au2001')\n",
    "ra = au[['rental_area', 'region', 'territory', 'geometry']].dissolve(by='rental_area').reset_index()\n",
    "\n",
    "path = hp.get_path('rental_areas')\n",
    "with path.open('w') as tgt:\n",
    "    tgt.write(ra.to_json())\n",
    "\n",
    "ra.head()"
   ]
  },
  {
   "cell_type": "markdown",
   "metadata": {},
   "source": [
    "# Choose representative points for rental areas using approximate centroids of property titles"
   ]
  },
  {
   "cell_type": "code",
   "execution_count": 2,
   "metadata": {},
   "outputs": [
    {
     "data": {
      "text/html": [
       "<div>\n",
       "<style>\n",
       "    .dataframe thead tr:only-child th {\n",
       "        text-align: right;\n",
       "    }\n",
       "\n",
       "    .dataframe thead th {\n",
       "        text-align: left;\n",
       "    }\n",
       "\n",
       "    .dataframe tbody tr th {\n",
       "        vertical-align: top;\n",
       "    }\n",
       "</style>\n",
       "<table border=\"1\" class=\"dataframe\">\n",
       "  <thead>\n",
       "    <tr style=\"text-align: right;\">\n",
       "      <th></th>\n",
       "      <th>LGD_ID</th>\n",
       "      <th>OWNERS</th>\n",
       "      <th>PAR_ID</th>\n",
       "      <th>TTL_TITLE</th>\n",
       "      <th>geometry</th>\n",
       "    </tr>\n",
       "  </thead>\n",
       "  <tbody>\n",
       "    <tr>\n",
       "      <th>0</th>\n",
       "      <td>21149591</td>\n",
       "      <td>Yeung J</td>\n",
       "      <td>6683994</td>\n",
       "      <td>122991</td>\n",
       "      <td>POINT (174.9064763832665 -36.95116400076868)</td>\n",
       "    </tr>\n",
       "    <tr>\n",
       "      <th>1</th>\n",
       "      <td>3410291</td>\n",
       "      <td>Vajsakovic D</td>\n",
       "      <td>5154438</td>\n",
       "      <td>NA11A/102</td>\n",
       "      <td>POINT (174.6539389831913 -36.82909730112425)</td>\n",
       "    </tr>\n",
       "    <tr>\n",
       "      <th>2</th>\n",
       "      <td>3414488</td>\n",
       "      <td>Grbic I L:Lowe J D</td>\n",
       "      <td>4826167</td>\n",
       "      <td>NA32C/33</td>\n",
       "      <td>POINT (173.3733926499484 -34.87991641687911)</td>\n",
       "    </tr>\n",
       "    <tr>\n",
       "      <th>3</th>\n",
       "      <td>3421826</td>\n",
       "      <td>Kim K</td>\n",
       "      <td>5013176</td>\n",
       "      <td>NA459/84</td>\n",
       "      <td>POINT (174.7440597997697 -36.79408678372536)</td>\n",
       "    </tr>\n",
       "    <tr>\n",
       "      <th>4</th>\n",
       "      <td>3438504</td>\n",
       "      <td>Skeen R</td>\n",
       "      <td>5065364</td>\n",
       "      <td>NA22A/1323</td>\n",
       "      <td>POINT (174.6284382829138 -36.85095825040765)</td>\n",
       "    </tr>\n",
       "  </tbody>\n",
       "</table>\n",
       "</div>"
      ],
      "text/plain": [
       "     LGD_ID              OWNERS   PAR_ID   TTL_TITLE  \\\n",
       "0  21149591             Yeung J  6683994      122991   \n",
       "1   3410291        Vajsakovic D  5154438   NA11A/102   \n",
       "2   3414488  Grbic I L:Lowe J D  4826167    NA32C/33   \n",
       "3   3421826               Kim K  5013176    NA459/84   \n",
       "4   3438504             Skeen R  5065364  NA22A/1323   \n",
       "\n",
       "                                       geometry  \n",
       "0  POINT (174.9064763832665 -36.95116400076868)  \n",
       "1  POINT (174.6539389831913 -36.82909730112425)  \n",
       "2  POINT (173.3733926499484 -34.87991641687911)  \n",
       "3  POINT (174.7440597997697 -36.79408678372536)  \n",
       "4  POINT (174.6284382829138 -36.85095825040765)  "
      ]
     },
     "execution_count": 2,
     "metadata": {},
     "output_type": "execute_result"
    }
   ],
   "source": [
    "ra = hp.get_data('rental_areas')\n",
    "t = hp.get_data('property_titles')\n",
    "t.head()"
   ]
  },
  {
   "cell_type": "code",
   "execution_count": null,
   "metadata": {},
   "outputs": [],
   "source": [
    "# Spatial-join titles to rental areas\n",
    "\n",
    "%time f = gpd.sjoin(t[['geometry', 'fid']], ra, op='intersects')\n",
    "f.head()"
   ]
  },
  {
   "cell_type": "code",
   "execution_count": null,
   "metadata": {
    "collapsed": true
   },
   "outputs": [],
   "source": [
    "# Choose representative points for rental areas\n",
    "\n",
    "def pt(group):\n",
    "    d = {}\n",
    "    d['geometry'] = so.unary_union(group['geometry']).representative_point()\n",
    "    d['territory'] = group['territory'].iat[0]\n",
    "    d['region'] = group['region'].iat[0]\n",
    "    return pd.Series(d)\n",
    "\n",
    "g = gpd.GeoDataFrame(f.groupby('rental_area').apply(pt).reset_index())\n",
    "\n",
    "path = hp.get_path('rental_points')\n",
    "with path.open('w') as tgt:\n",
    "    tgt.write(g.to_json())\n",
    "\n",
    "g.head()"
   ]
  },
  {
   "cell_type": "markdown",
   "metadata": {},
   "source": [
    "# Prepare regional slices of data"
   ]
  },
  {
   "cell_type": "code",
   "execution_count": null,
   "metadata": {
    "collapsed": true
   },
   "outputs": [],
   "source": [
    "ra = hp.get_data('rental_areas')\n",
    "rap = hp.get_data('rental_points')\n",
    "\n",
    "for region in hp.REGIONS:\n",
    "    region_root = hp.DATA_DIR/region\n",
    "    if not region_root.exists():\n",
    "        region_root.mkdir()\n",
    "        \n",
    "    region_c = region.capitalize()\n",
    "\n",
    "    # Rental areas slice\n",
    "    f = ra[ra['region'] == region_c].copy()\n",
    "    path = hp.get_path('rental_areas', region)\n",
    "    with path.open('w') as tgt:\n",
    "        tgt.write(f.to_json())\n",
    "        \n",
    "    # Rental area points slice\n",
    "    f = rap[rap['region'] == region_c].copy()\n",
    "    path = hp.get_path('rental_points', region)\n",
    "    with path.open('w') as tgt:\n",
    "        tgt.write(f.to_json())\n",
    "        "
   ]
  },
  {
   "cell_type": "code",
   "execution_count": null,
   "metadata": {
    "collapsed": true
   },
   "outputs": [],
   "source": []
  }
 ],
 "metadata": {
  "kernelspec": {
   "display_name": "Python 3",
   "language": "python",
   "name": "python3"
  },
  "language_info": {
   "codemirror_mode": {
    "name": "ipython",
    "version": 3
   },
   "file_extension": ".py",
   "mimetype": "text/x-python",
   "name": "python",
   "nbconvert_exporter": "python",
   "pygments_lexer": "ipython3",
   "version": "3.5.2"
  }
 },
 "nbformat": 4,
 "nbformat_minor": 2
}
