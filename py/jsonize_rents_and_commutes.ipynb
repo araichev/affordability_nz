{
 "cells": [
  {
   "cell_type": "code",
   "execution_count": 1,
   "metadata": {
    "collapsed": true
   },
   "outputs": [],
   "source": [
    "from pathlib import Path\n",
    "import json\n",
    "from functools import reduce\n",
    "import math\n",
    "import datetime as dt\n",
    "import pytz \n",
    "from itertools import product\n",
    "from collections import OrderedDict\n",
    "import time\n",
    "import re\n",
    "import sys\n",
    "\n",
    "import requests\n",
    "import numpy as np\n",
    "import pandas as pd\n",
    "import geopandas as gpd\n",
    "import shapely.ops as so\n",
    "\n",
    "import helpers as hp\n",
    "\n",
    "%load_ext autoreload\n",
    "%autoreload 2\n",
    "\n"
   ]
  },
  {
   "cell_type": "code",
   "execution_count": null,
   "metadata": {
    "collapsed": true
   },
   "outputs": [],
   "source": [
    "# def car_value(purchase_price, num_years):\n",
    "#     \"\"\"\n",
    "#     Depreciation at 40% for first year and 20%/year thereafter.\n",
    "#     Taken from the Dog and Lemon guide at https://dogandlemon.com/articles/depreciation-new-zealand.\n",
    "#     \"\"\"\n",
    "#     x = purchase_price\n",
    "#     n = num_years\n",
    "#     k = math.floor(n)\n",
    "#     kk = n - k\n",
    "#     print(k, kk)\n",
    "#     if n <= 0:\n",
    "#         v = x\n",
    "#     else:        \n",
    "#         v = 0.80**(max(0, n-1))*0.6*x\n",
    "#     return v\n",
    "\n",
    "# car_value(73000, 14.2)"
   ]
  },
  {
   "cell_type": "markdown",
   "metadata": {},
   "source": [
    "# Group regional rents by rental area and number of bedrooms and write to JSON for web"
   ]
  },
  {
   "cell_type": "code",
   "execution_count": 3,
   "metadata": {},
   "outputs": [
    {
     "name": "stdout",
     "output_type": "stream",
     "text": [
      "Slicing from date 2017-03-01\n"
     ]
    }
   ],
   "source": [
    "def build_rents_json(region, date):\n",
    "    \"\"\"\n",
    "    Given a region (string) and a date (YYYY-MM-DD string),\n",
    "    read the rents for the given region, slice them from the given date\n",
    "    to the latest date in the data, aggregate the rents by rental area and number of bedrooms\n",
    "    ('1', '2', '3', or '4'), and return the result as a dictionary of the form\n",
    "    rental area -> #bedrooms -> rent geometric mean.\n",
    "    Some of the mean rents could be ``None``.\n",
    "    \"\"\"\n",
    "    rents = hp.get_data(region, 'rents_csv')\n",
    "    f = hp.aggregate_rents(rents, date)\n",
    "    \n",
    "    # Drop 5+ bedrooms and round to nearest dollar\n",
    "    f = f[f['#bedrooms'] != '5+'].copy().round()\n",
    "    \n",
    "    # Replace NaN with None to make JSON-compatible \n",
    "    f = hp.nan_to_none(f)\n",
    "    \n",
    "    # Save to dictionary of form rental area -> #bedrooms -> rent geo mean\n",
    "    d = {area: dict(g[['#bedrooms', 'rent_geo_mean']].values)\n",
    "      for area, g in f.groupby('rental_area')}\n",
    "\n",
    "    return d\n",
    "\n",
    "\n",
    "date = hp.get_latest_quarters(2)[0]\n",
    "print('Slicing from date', date)\n",
    "\n",
    "for region in hp.REGIONS:\n",
    "    d = build_rents_json(region, date)\n",
    "    path = hp.get_path(region, 'rents_json')   \n",
    "    with path.open('w') as tgt:\n",
    "        json.dump(d, tgt)\n",
    "\n",
    "    "
   ]
  },
  {
   "cell_type": "markdown",
   "metadata": {},
   "source": [
    "# Compile roundtrip commute costs and durations and save to JSON for web"
   ]
  },
  {
   "cell_type": "code",
   "execution_count": 2,
   "metadata": {
    "collapsed": true
   },
   "outputs": [],
   "source": [
    "def build_commute_costs_json(region):\n",
    "    \"\"\"\n",
    "    Consolidate the data in the commute CSV files for this region into \n",
    "    one JSON-compatibel dictionary of roundtrip commute costs and durations. \n",
    "    More specifically, return a dictionary of the form \n",
    "    ``{'index_by_name': index_by_name, 'matrix': M}``, where \n",
    "    ``index_by_name`` is a dictionary of the form\n",
    "    rental area name -> row/column index in the lower-triangular half-matrix \n",
    "    ``M``, where ``M`` is encoded by a dictionary of the form\n",
    "    mode -> list of lists of cost-duration pairs \n",
    "    such that ``M[mode][i][j]`` equals the cost in dollars\n",
    "    and the duration in hours that it takes to travel roundtrip by the \n",
    "    given mode from the rental area point with index ``i >= 0`` \n",
    "    to the rental area point with index ``j <= i``.\n",
    "    \"\"\"\n",
    "    # Get rental area names\n",
    "    rents = hp.get_data(region, 'rents_csv')\n",
    "    names = sorted(rents['rental_area'].unique())\n",
    "    index_by_name = {name: i for (i, name) in enumerate(names)}\n",
    "    n = len(names)\n",
    "\n",
    "    # Add cost info to commutes data\n",
    "    frames = []\n",
    "    for mode in hp.MODES:\n",
    "        f = hp.get_data(region, 'commutes_' + mode)\n",
    "        f['mode'] = mode\n",
    "        f['orig_index'] = f['orig_name'].map(index_by_name)\n",
    "        f['dest_index'] = f['dest_name'].map(index_by_name)\n",
    "        \n",
    "        # Convert from meters to kilometers and seconds to hours\n",
    "        f['distance'] /= 1000\n",
    "        f['duration'] /= 3600\n",
    "\n",
    "        # Compute costs\n",
    "        if mode == 'transit':\n",
    "            # Use separate cost table\n",
    "            costs = hp.get_data(region, 'transit_costs').rename(\n",
    "              columns={'card_fare': 'cost'})\n",
    "            f = f.merge(costs)\n",
    "            # Nullify costs with missing distances\n",
    "            cond = f['distance'].isnull()\n",
    "            f.loc[cond, 'cost'] = np.nan\n",
    "        else:\n",
    "            # Multiply distance by cost per distance\n",
    "            f['cost'] = hp.COST_BY_MODE[mode]*f['distance']\n",
    "\n",
    "        # Insert zero costs for area-to-self commutes\n",
    "        g = pd.DataFrame()\n",
    "        g['orig_index'] = f['orig_index'].unique()\n",
    "        g['dest_index'] = f['orig_index'].unique()\n",
    "        g['mode'] = mode\n",
    "        g['cost'] = 0\n",
    "        g['duration'] = 0\n",
    "        f = pd.concat([f, g])\n",
    "        frames.append(f[['mode', 'orig_index', 'dest_index', 'cost', 'duration']].copy())\n",
    "\n",
    "    f = pd.concat(frames)\n",
    "    \n",
    "    # Make a dictionary M of the form mode -> [[(cost, duration)]], \n",
    "    # where the double list is indexed by rental areas\n",
    "    M = {mode: [[(None, None) for j in range(n)] for i in range(n)] \n",
    "      for mode in hp.MODES}\n",
    "    f = hp.nan_to_none(f)\n",
    "    for mode, oi, di, cost, duration in f.itertuples(index=False):\n",
    "        M[mode][oi][di] = (cost, duration)\n",
    "    \n",
    "    # Make a dictionary MM of the form mode -> [[(roundtrip cost, roundtrip duration)]]\n",
    "    # where the double list is indexed by rental areas i, j with i < j\n",
    "    MM = {mode: [[(None, None) for j in range(i + 1)] for i in range(n)] \n",
    "      for mode in hp.MODES}\n",
    "    for mode in hp.MODES:\n",
    "        for i in range(n):\n",
    "            for j in range(i + 1):\n",
    "                try:\n",
    "                    cost = round(M[mode][i][j][0] + M[mode][j][i][0], 2)\n",
    "                    duration = round(M[mode][i][j][1] + M[mode][j][i][1], 2)\n",
    "                    MM[mode][i][j] = (cost, duration)\n",
    "                except TypeError:\n",
    "                    # Defaults to MM[mode][i][j] = (None, None) \n",
    "                    pass  \n",
    "    \n",
    "    data = {'index_by_name': index_by_name, 'matrix': MM}\n",
    "    return data\n",
    "\n",
    "for region in hp.REGIONS:\n",
    "    d = build_commute_costs_json(region)\n",
    "    path = hp.get_path(region, 'commute_costs')   \n",
    "    with path.open('w') as tgt:\n",
    "        json.dump(d, tgt)\n"
   ]
  },
  {
   "cell_type": "code",
   "execution_count": null,
   "metadata": {
    "collapsed": true
   },
   "outputs": [],
   "source": []
  }
 ],
 "metadata": {
  "kernelspec": {
   "display_name": "Python 3",
   "language": "python",
   "name": "python3"
  },
  "language_info": {
   "codemirror_mode": {
    "name": "ipython",
    "version": 3
   },
   "file_extension": ".py",
   "mimetype": "text/x-python",
   "name": "python",
   "nbconvert_exporter": "python",
   "pygments_lexer": "ipython3",
   "version": "3.5.2"
  }
 },
 "nbformat": 4,
 "nbformat_minor": 2
}
