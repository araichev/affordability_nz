{
 "cells": [
  {
   "cell_type": "code",
   "execution_count": 19,
   "metadata": {},
   "outputs": [
    {
     "name": "stdout",
     "output_type": "stream",
     "text": [
      "The autoreload extension is already loaded. To reload it, use:\n",
      "  %reload_ext autoreload\n"
     ]
    }
   ],
   "source": [
    "from pathlib import Path\n",
    "import json\n",
    "from functools import reduce\n",
    "import math\n",
    "import datetime as dt\n",
    "import pytz \n",
    "from itertools import product\n",
    "from collections import OrderedDict\n",
    "import time\n",
    "import sys\n",
    "\n",
    "import requests\n",
    "import numpy as np\n",
    "import pandas as pd\n",
    "import geopandas as gpd\n",
    "import shapely.ops as so\n",
    "from highcharts import Highchart\n",
    "\n",
    "import helpers as hp\n",
    "\n",
    "%load_ext autoreload\n",
    "%autoreload 2\n"
   ]
  },
  {
   "cell_type": "markdown",
   "metadata": {
    "collapsed": true
   },
   "source": [
    "# Plot rent change over time"
   ]
  },
  {
   "cell_type": "code",
   "execution_count": 4,
   "metadata": {},
   "outputs": [
    {
     "name": "stdout",
     "output_type": "stream",
     "text": [
      "['1993-03-01' '1993-06-01' '1993-09-01' '1993-12-01' '1994-03-01'\n",
      " '1994-06-01' '1994-09-01' '1994-12-01' '1995-03-01' '1995-06-01'\n",
      " '1995-09-01' '1995-12-01' '1996-03-01' '1996-06-01' '1996-09-01'\n",
      " '1996-12-01' '1997-03-01' '1997-06-01' '1997-09-01' '1997-12-01'\n",
      " '1998-03-01' '1998-06-01' '1998-09-01' '1998-12-01' '1999-03-01'\n",
      " '1999-06-01' '1999-09-01' '1999-12-01' '2000-03-01' '2000-06-01'\n",
      " '2000-09-01' '2000-12-01' '2001-03-01' '2001-06-01' '2001-09-01'\n",
      " '2001-12-01' '2002-03-01' '2002-06-01' '2002-09-01' '2002-12-01'\n",
      " '2003-03-01' '2003-06-01' '2003-09-01' '2003-12-01' '2004-03-01'\n",
      " '2004-06-01' '2004-09-01' '2004-12-01' '2005-03-01' '2005-06-01'\n",
      " '2005-09-01' '2005-12-01' '2006-03-01' '2006-06-01' '2006-09-01'\n",
      " '2006-12-01' '2007-03-01' '2007-06-01' '2007-09-01' '2007-12-01'\n",
      " '2008-03-01' '2008-06-01' '2008-09-01' '2008-12-01' '2009-03-01'\n",
      " '2009-06-01' '2009-09-01' '2009-12-01' '2010-03-01' '2010-06-01'\n",
      " '2010-09-01' '2010-12-01' '2011-03-01' '2011-06-01' '2011-09-01'\n",
      " '2011-12-01' '2012-03-01' '2012-06-01' '2012-09-01' '2012-12-01'\n",
      " '2013-03-01' '2013-06-01' '2013-09-01' '2013-12-01' '2014-03-01'\n",
      " '2014-06-01' '2014-09-01' '2014-12-01' '2015-03-01' '2015-06-01'\n",
      " '2015-09-01' '2015-12-01' '2016-03-01' '2016-06-01' '2016-09-01'\n",
      " '2016-12-01' '2017-03-01' '2017-06-01']\n"
     ]
    },
    {
     "data": {
      "text/html": [
       "<div>\n",
       "<style>\n",
       "    .dataframe thead tr:only-child th {\n",
       "        text-align: right;\n",
       "    }\n",
       "\n",
       "    .dataframe thead th {\n",
       "        text-align: left;\n",
       "    }\n",
       "\n",
       "    .dataframe tbody tr th {\n",
       "        vertical-align: top;\n",
       "    }\n",
       "</style>\n",
       "<table border=\"1\" class=\"dataframe\">\n",
       "  <thead>\n",
       "    <tr style=\"text-align: right;\">\n",
       "      <th></th>\n",
       "      <th>au2001</th>\n",
       "      <th>property_type</th>\n",
       "      <th>#bedrooms</th>\n",
       "      <th>quarter</th>\n",
       "      <th>rent_count</th>\n",
       "      <th>rent_geo_mean</th>\n",
       "      <th>rent_mean</th>\n",
       "      <th>au_name</th>\n",
       "      <th>territory</th>\n",
       "      <th>region</th>\n",
       "      <th>rental_area</th>\n",
       "    </tr>\n",
       "  </thead>\n",
       "  <tbody>\n",
       "    <tr>\n",
       "      <th>0</th>\n",
       "      <td>500100</td>\n",
       "      <td>House</td>\n",
       "      <td>2</td>\n",
       "      <td>1993-03-01</td>\n",
       "      <td>NaN</td>\n",
       "      <td>NaN</td>\n",
       "      <td>NaN</td>\n",
       "      <td>Awanui</td>\n",
       "      <td>Far North District</td>\n",
       "      <td>Northland</td>\n",
       "      <td>Rural Far North</td>\n",
       "    </tr>\n",
       "    <tr>\n",
       "      <th>1</th>\n",
       "      <td>500100</td>\n",
       "      <td>House</td>\n",
       "      <td>3</td>\n",
       "      <td>1993-03-01</td>\n",
       "      <td>NaN</td>\n",
       "      <td>NaN</td>\n",
       "      <td>NaN</td>\n",
       "      <td>Awanui</td>\n",
       "      <td>Far North District</td>\n",
       "      <td>Northland</td>\n",
       "      <td>Rural Far North</td>\n",
       "    </tr>\n",
       "    <tr>\n",
       "      <th>2</th>\n",
       "      <td>500100</td>\n",
       "      <td>House</td>\n",
       "      <td>2</td>\n",
       "      <td>1993-06-01</td>\n",
       "      <td>NaN</td>\n",
       "      <td>NaN</td>\n",
       "      <td>NaN</td>\n",
       "      <td>Awanui</td>\n",
       "      <td>Far North District</td>\n",
       "      <td>Northland</td>\n",
       "      <td>Rural Far North</td>\n",
       "    </tr>\n",
       "    <tr>\n",
       "      <th>3</th>\n",
       "      <td>500100</td>\n",
       "      <td>House</td>\n",
       "      <td>3</td>\n",
       "      <td>1993-06-01</td>\n",
       "      <td>NaN</td>\n",
       "      <td>NaN</td>\n",
       "      <td>NaN</td>\n",
       "      <td>Awanui</td>\n",
       "      <td>Far North District</td>\n",
       "      <td>Northland</td>\n",
       "      <td>Rural Far North</td>\n",
       "    </tr>\n",
       "    <tr>\n",
       "      <th>4</th>\n",
       "      <td>500100</td>\n",
       "      <td>House</td>\n",
       "      <td>2</td>\n",
       "      <td>1993-09-01</td>\n",
       "      <td>NaN</td>\n",
       "      <td>NaN</td>\n",
       "      <td>NaN</td>\n",
       "      <td>Awanui</td>\n",
       "      <td>Far North District</td>\n",
       "      <td>Northland</td>\n",
       "      <td>Rural Far North</td>\n",
       "    </tr>\n",
       "  </tbody>\n",
       "</table>\n",
       "</div>"
      ],
      "text/plain": [
       "   au2001 property_type #bedrooms     quarter  rent_count  rent_geo_mean  \\\n",
       "0  500100         House         2  1993-03-01         NaN            NaN   \n",
       "1  500100         House         3  1993-03-01         NaN            NaN   \n",
       "2  500100         House         2  1993-06-01         NaN            NaN   \n",
       "3  500100         House         3  1993-06-01         NaN            NaN   \n",
       "4  500100         House         2  1993-09-01         NaN            NaN   \n",
       "\n",
       "   rent_mean au_name           territory     region      rental_area  \n",
       "0        NaN  Awanui  Far North District  Northland  Rural Far North  \n",
       "1        NaN  Awanui  Far North District  Northland  Rural Far North  \n",
       "2        NaN  Awanui  Far North District  Northland  Rural Far North  \n",
       "3        NaN  Awanui  Far North District  Northland  Rural Far North  \n",
       "4        NaN  Awanui  Far North District  Northland  Rural Far North  "
      ]
     },
     "execution_count": 4,
     "metadata": {},
     "output_type": "execute_result"
    }
   ],
   "source": [
    "path = hp.DATA_DIR/'rents.csv'\n",
    "rents = pd.read_csv(path, dtype={'au2001': str})\n",
    "print(rents['quarter'].unique())\n",
    "rents.head()\n"
   ]
  },
  {
   "cell_type": "code",
   "execution_count": 7,
   "metadata": {},
   "outputs": [
    {
     "name": "stdout",
     "output_type": "stream",
     "text": [
      "census area units\n",
      "  #bedrooms  hit_frac\n",
      "0         1  0.717868\n",
      "1         2  0.906977\n",
      "2         3  0.968661\n",
      "3         4  0.884726\n",
      "4        5+  0.361022\n",
      "rental area units\n",
      "  #bedrooms  hit_frac\n",
      "0         1  0.939394\n",
      "1         2  1.000000\n",
      "2         3  1.000000\n",
      "3         4  0.979798\n",
      "4        5+  0.666667\n"
     ]
    }
   ],
   "source": [
    "# What fraction of rental data do we have by #bedrooms?\n",
    "\n",
    "def hits(group):\n",
    "    d = {}\n",
    "    d['hit_frac'] = group['rent_count'].dropna().shape[0]/group['rent_count'].shape[0]\n",
    "    return pd.Series(d)\n",
    "\n",
    "f = hp.aggregate_rents(rents, groupby_cols=('au2001', '#bedrooms'))\n",
    "cond = f['region'] == 'Auckland'\n",
    "print('census area units')\n",
    "print(f[cond].copy().groupby('#bedrooms').apply(hits).reset_index())\n",
    "\n",
    "f = hp.aggregate_rents(rents, groupby_cols=('rental_area', '#bedrooms'))\n",
    "cond = f['region'] == 'Auckland'\n",
    "print('rental area units')\n",
    "print(f[cond].copy().groupby('#bedrooms').apply(hits).reset_index())\n"
   ]
  },
  {
   "cell_type": "code",
   "execution_count": 37,
   "metadata": {},
   "outputs": [
    {
     "data": {
      "text/html": [
       "<iframe style=\"border:0;outline:none;overflow:hidden\" srcdoc=\"&lt;!DOCTYPE html&gt; &lt;html lang=&quot;en&quot;&gt; &lt;head&gt; &lt;meta charset=&quot;utf-8&quot; /&gt; &lt;link href=&quot;https://www.highcharts.com/highslide/highslide.css&quot; rel=&quot;stylesheet&quot; /&gt; &lt;script type=&quot;text/javascript&quot; src=&quot;https://ajax.googleapis.com/ajax/libs/jquery/1.9.1/jquery.min.js&quot;&gt;&lt;/script&gt; &lt;script type=&quot;text/javascript&quot; src=&quot;https://code.highcharts.com/highcharts.js&quot;&gt;&lt;/script&gt; &lt;script type=&quot;text/javascript&quot; src=&quot;https://code.highcharts.com/highcharts-more.js&quot;&gt;&lt;/script&gt; &lt;script type=&quot;text/javascript&quot; src=&quot;https://code.highcharts.com/modules/heatmap.js&quot;&gt;&lt;/script&gt; &lt;script type=&quot;text/javascript&quot; src=&quot;https://code.highcharts.com/modules/exporting.js&quot;&gt;&lt;/script&gt; &lt;/head&gt; &lt;body style=&quot;margin:0;padding:0&quot;&gt; &lt;div id=&quot;container&quot; style=&quot;&quot;&gt;Loading....&lt;/div&gt; &lt;script&gt; $(function(){ Highcharts.setOptions({&quot;global&quot;: {}, &quot;lang&quot;: {}}); var option = {&quot;credits&quot;: {&quot;enabled&quot;: false}, &quot;plotOptions&quot;: {}, &quot;exporting&quot;: {}, &quot;title&quot;: {&quot;text&quot;: &quot;Waitakere City Rents&quot;}, &quot;yAxis&quot;: {&quot;title&quot;: {&quot;text&quot;: &quot;Geometric mean rent&quot;}, &quot;maxPadding&quot;: 0.05, &quot;showLastLabel&quot;: true}, &quot;navigation&quot;: {}, &quot;colors&quot;: {}, &quot;legend&quot;: {&quot;enabled&quot;: false}, &quot;xAxis&quot;: {&quot;title&quot;: {&quot;text&quot;: &quot;Calendar quarter&quot;}, &quot;maxPadding&quot;: 0.05, &quot;showLastLabel&quot;: true}, &quot;chart&quot;: {&quot;renderTo&quot;: &quot;container&quot;}, &quot;loading&quot;: {}, &quot;drilldown&quot;: {}, &quot;series&quot;: {}, &quot;tooltip&quot;: {}, &quot;labels&quot;: {}, &quot;subtitle&quot;: {}, &quot;pane&quot;: {}}; var data = [{&quot;data&quot;: [[&quot;1993-03-01&quot;, 178.3275580295008], [&quot;1993-06-01&quot;, 180.63067239846686], [&quot;1993-09-01&quot;, 183.35564058515106], [&quot;1993-12-01&quot;, 188.2039109980242], [&quot;1994-03-01&quot;, 189.66713276155826], [&quot;1994-06-01&quot;, 191.0068212534098], [&quot;1994-09-01&quot;, 195.24802666333747], [&quot;1994-12-01&quot;, 200.46712689209684], [&quot;1995-03-01&quot;, 209.18600013591666], [&quot;1995-06-01&quot;, 214.72818216877164], [&quot;1995-09-01&quot;, 227.93770660832436], [&quot;1995-12-01&quot;, 232.21989482828803], [&quot;1996-03-01&quot;, 239.58967650335615], [&quot;1996-06-01&quot;, 249.80044002388746], [&quot;1996-09-01&quot;, 250.63129347875406], [&quot;1996-12-01&quot;, 252.99518497065827], [&quot;1997-03-01&quot;, 257.8305359758071], [&quot;1997-06-01&quot;, 257.55098619541224], [&quot;1997-09-01&quot;, 254.23275412831558], [&quot;1997-12-01&quot;, 251.8694104964514], [&quot;1998-03-01&quot;, 248.88923520866686], [&quot;1998-06-01&quot;, 248.35941865401279], [&quot;1998-09-01&quot;, 242.46734506694216], [&quot;1998-12-01&quot;, 239.5681958739067], [&quot;1999-03-01&quot;, 233.71658331654567], [&quot;1999-06-01&quot;, 235.02811699594687], [&quot;1999-09-01&quot;, 232.79935962036416], [&quot;1999-12-01&quot;, 231.3869687899814], [&quot;2000-03-01&quot;, 232.95463911380966], [&quot;2000-06-01&quot;, 237.26522366239865], [&quot;2000-09-01&quot;, 235.90443986412214], [&quot;2000-12-01&quot;, 233.11554890395598], [&quot;2001-03-01&quot;, 231.91770971530852], [&quot;2001-06-01&quot;, 235.1818312828716], [&quot;2001-09-01&quot;, 235.38323944266946], [&quot;2001-12-01&quot;, 237.73601526558616], [&quot;2002-03-01&quot;, 241.32481610425432], [&quot;2002-06-01&quot;, 253.88873178880445], [&quot;2002-09-01&quot;, 259.13318165477244], [&quot;2002-12-01&quot;, 267.0441399735059], [&quot;2003-03-01&quot;, 272.61208078714236], [&quot;2003-06-01&quot;, 274.74703149727895], [&quot;2003-09-01&quot;, 283.3321615097453], [&quot;2003-12-01&quot;, 286.5558131697393], [&quot;2004-03-01&quot;, 294.1983471654119], [&quot;2004-06-01&quot;, 295.63809621621834], [&quot;2004-09-01&quot;, 291.2529804335301], [&quot;2004-12-01&quot;, 287.82110048036265], [&quot;2005-03-01&quot;, 292.0711512916047], [&quot;2005-06-01&quot;, 295.03282366847515], [&quot;2005-09-01&quot;, 296.1164726478827], [&quot;2005-12-01&quot;, 298.9052250008387], [&quot;2006-03-01&quot;, 293.67997668768095], [&quot;2006-06-01&quot;, 302.77630390410366], [&quot;2006-09-01&quot;, 305.8466962101589], [&quot;2006-12-01&quot;, 304.7410576160581], [&quot;2007-03-01&quot;, 308.95292344277163], [&quot;2007-06-01&quot;, 314.9305757982672], [&quot;2007-09-01&quot;, 325.2048071914123], [&quot;2007-12-01&quot;, 320.4683710341219], [&quot;2008-03-01&quot;, 328.0008190449416], [&quot;2008-06-01&quot;, 330.91891925751025], [&quot;2008-09-01&quot;, 333.11064939578597], [&quot;2008-12-01&quot;, 335.0327263960633], [&quot;2009-03-01&quot;, 330.27535181357257], [&quot;2009-06-01&quot;, 336.167560962473], [&quot;2009-09-01&quot;, 337.6645279361279], [&quot;2009-12-01&quot;, 336.19624566087407], [&quot;2010-03-01&quot;, 337.6792870908249], [&quot;2010-06-01&quot;, 349.02917926418525], [&quot;2010-09-01&quot;, 350.44596405431787], [&quot;2010-12-01&quot;, 346.45777579954654], [&quot;2011-03-01&quot;, 357.72218922271435], [&quot;2011-06-01&quot;, 366.2862782248675], [&quot;2011-09-01&quot;, 362.7295232778681], [&quot;2011-12-01&quot;, 365.36691634716794], [&quot;2012-03-01&quot;, 366.51365664145595], [&quot;2012-06-01&quot;, 373.7796868095577], [&quot;2012-09-01&quot;, 383.8255149515408], [&quot;2012-12-01&quot;, 389.2426365697792], [&quot;2013-03-01&quot;, 389.14365808177075], [&quot;2013-06-01&quot;, 389.66785723705664], [&quot;2013-09-01&quot;, 393.9066910231987], [&quot;2013-12-01&quot;, 393.5440046944221], [&quot;2014-03-01&quot;, 406.3070474094442], [&quot;2014-06-01&quot;, 407.1604863305128], [&quot;2014-09-01&quot;, 413.1558907687794], [&quot;2014-12-01&quot;, 418.3439133396518], [&quot;2015-03-01&quot;, 429.9378644506135], [&quot;2015-06-01&quot;, 431.18902196535305], [&quot;2015-09-01&quot;, 439.1364666852756], [&quot;2015-12-01&quot;, 443.32528879780943], [&quot;2016-03-01&quot;, 447.35136681798696], [&quot;2016-06-01&quot;, 463.8337334647555], [&quot;2016-09-01&quot;, 474.08728748518183], [&quot;2016-12-01&quot;, 469.25870548883057], [&quot;2017-03-01&quot;, 471.00578948225365], [&quot;2017-06-01&quot;, 478.4426088654742]], &quot;type&quot;: &quot;line&quot;, &quot;name&quot;: &quot;Geometric mean rent&quot;}]; option.series = data; var chart = new Highcharts.Chart(option); }); &lt;/script&gt; &lt;/body&gt; &lt;/html&gt;\" height=520 width=820></iframe>"
      ],
      "text/plain": [
       "<highcharts.highcharts.highcharts.Highchart at 0x7ff3dbc5ff28>"
      ]
     },
     "execution_count": 37,
     "metadata": {},
     "output_type": "execute_result"
    }
   ],
   "source": [
    "# Probe by territory\n",
    "territory = 'Waitakere City'\n",
    "\n",
    "cond = rents['territory'] == territory\n",
    "f = hp.aggregate_rents(rents[cond], groupby_cols=('quarter',))\n",
    "#f['quarter'] = pd.to_datetime(f['quarter'])\n",
    "\n",
    "# Plot\n",
    "options = {\n",
    "    'title': {\n",
    "        'text': '{!s} Rents'.format(territory)\n",
    "    },\n",
    "    'xAxis': {\n",
    "        'title': {\n",
    "            'text': 'Calendar quarter'\n",
    "        },\n",
    "        'maxPadding': 0.05,\n",
    "        'showLastLabel': True\n",
    "    },\n",
    "    'yAxis': {\n",
    "        'title': {\n",
    "            'text': 'Geometric mean rent'\n",
    "        },\n",
    "        'maxPadding': 0.05,\n",
    "        'showLastLabel': True\n",
    "    },\n",
    "    'legend': {\n",
    "        'enabled': False,\n",
    "    }\n",
    "}\n",
    "\n",
    "chart = Highchart()\n",
    "chart.set_dict_options(options)\n",
    "data =  f[['quarter', 'rent_geo_mean']].values.tolist()\n",
    "chart.add_data_set(data, 'line', 'Geometric mean rent') \n",
    "chart\n",
    "chart"
   ]
  },
  {
   "cell_type": "code",
   "execution_count": null,
   "metadata": {
    "collapsed": true
   },
   "outputs": [],
   "source": []
  }
 ],
 "metadata": {
  "kernelspec": {
   "display_name": "Python 3",
   "language": "python",
   "name": "python3"
  },
  "language_info": {
   "codemirror_mode": {
    "name": "ipython",
    "version": 3
   },
   "file_extension": ".py",
   "mimetype": "text/x-python",
   "name": "python",
   "nbconvert_exporter": "python",
   "pygments_lexer": "ipython3",
   "version": "3.5.2"
  }
 },
 "nbformat": 4,
 "nbformat_minor": 2
}
