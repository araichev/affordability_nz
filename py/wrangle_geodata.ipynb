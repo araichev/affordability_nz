{
 "cells": [
  {
   "cell_type": "code",
   "execution_count": 1,
   "metadata": {
    "collapsed": true
   },
   "outputs": [],
   "source": [
    "from pathlib import Path\n",
    "import json\n",
    "from functools import reduce\n",
    "import math\n",
    "import datetime as dt\n",
    "import pytz \n",
    "from itertools import product\n",
    "from collections import OrderedDict\n",
    "import time\n",
    "import sys\n",
    "\n",
    "import requests\n",
    "import numpy as np\n",
    "import pandas as pd\n",
    "import geopandas as gpd\n",
    "import shapely.ops as so\n",
    "\n",
    "import helpers as hp\n",
    "\n",
    "%load_ext autoreload\n",
    "%autoreload 2\n",
    "%matplotlib inline"
   ]
  },
  {
   "cell_type": "markdown",
   "metadata": {},
   "source": [
    "# Prepare table of 2001 area units and rental area units"
   ]
  },
  {
   "cell_type": "code",
   "execution_count": 3,
   "metadata": {},
   "outputs": [
    {
     "data": {
      "text/html": [
       "<div>\n",
       "<style>\n",
       "    .dataframe thead tr:only-child th {\n",
       "        text-align: right;\n",
       "    }\n",
       "\n",
       "    .dataframe thead th {\n",
       "        text-align: left;\n",
       "    }\n",
       "\n",
       "    .dataframe tbody tr th {\n",
       "        vertical-align: top;\n",
       "    }\n",
       "</style>\n",
       "<table border=\"1\" class=\"dataframe\">\n",
       "  <thead>\n",
       "    <tr style=\"text-align: right;\">\n",
       "      <th></th>\n",
       "      <th>au2001</th>\n",
       "      <th>au_name</th>\n",
       "      <th>territory</th>\n",
       "      <th>region</th>\n",
       "      <th>rental_area</th>\n",
       "    </tr>\n",
       "  </thead>\n",
       "  <tbody>\n",
       "    <tr>\n",
       "      <th>0</th>\n",
       "      <td>500100</td>\n",
       "      <td>Awanui</td>\n",
       "      <td>Far North District</td>\n",
       "      <td>Northland</td>\n",
       "      <td>Rural Far North</td>\n",
       "    </tr>\n",
       "    <tr>\n",
       "      <th>1</th>\n",
       "      <td>500202</td>\n",
       "      <td>Mangonui East</td>\n",
       "      <td>Far North District</td>\n",
       "      <td>Northland</td>\n",
       "      <td>Mangonui/Kaeo</td>\n",
       "    </tr>\n",
       "    <tr>\n",
       "      <th>2</th>\n",
       "      <td>500203</td>\n",
       "      <td>Taipa Bay-Mangonui</td>\n",
       "      <td>Far North District</td>\n",
       "      <td>Northland</td>\n",
       "      <td>Mangonui/Kaeo</td>\n",
       "    </tr>\n",
       "    <tr>\n",
       "      <th>3</th>\n",
       "      <td>500204</td>\n",
       "      <td>Mangonui West</td>\n",
       "      <td>Far North District</td>\n",
       "      <td>Northland</td>\n",
       "      <td>Rural Far North</td>\n",
       "    </tr>\n",
       "    <tr>\n",
       "      <th>4</th>\n",
       "      <td>500205</td>\n",
       "      <td>Ahipara</td>\n",
       "      <td>Far North District</td>\n",
       "      <td>Northland</td>\n",
       "      <td>Ahipara/Kaitaia</td>\n",
       "    </tr>\n",
       "  </tbody>\n",
       "</table>\n",
       "</div>"
      ],
      "text/plain": [
       "   au2001             au_name           territory     region      rental_area\n",
       "0  500100              Awanui  Far North District  Northland  Rural Far North\n",
       "1  500202       Mangonui East  Far North District  Northland    Mangonui/Kaeo\n",
       "2  500203  Taipa Bay-Mangonui  Far North District  Northland    Mangonui/Kaeo\n",
       "3  500204       Mangonui West  Far North District  Northland  Rural Far North\n",
       "4  500205             Ahipara  Far North District  Northland  Ahipara/Kaitaia"
      ]
     },
     "execution_count": 3,
     "metadata": {},
     "output_type": "execute_result"
    }
   ],
   "source": [
    "# 2001 census area units\n",
    "path = hp.DATA_DIR/'collected'/'Geographical Table.csv'\n",
    "f = pd.read_csv(path, dtype={'SAU': str})\n",
    "f = f.rename(columns={\n",
    "    'SAU': 'au2001', \n",
    "    'SAU.Desc': 'au_name', \n",
    "    'TA': 'territory',\n",
    "    'Region': 'region',\n",
    "})\n",
    "del f['Water']\n",
    "f.head()\n",
    "\n",
    "# rental area units\n",
    "path = hp.DATA_DIR/'collected'/'Market Rent Areas.csv'\n",
    "g = pd.read_csv(path, dtype={'SAU': str})\n",
    "g = g.rename(columns={\n",
    "    'SAU': 'au2001', \n",
    "    'MARKET RENT DESCRIPTION': 'rental_area',\n",
    "    'TA': 'territory',\n",
    "    'AU NAME': 'au_name',\n",
    "})\n",
    "\n",
    "# Clean rental areas\n",
    "def clean(x):\n",
    "    y = x.split(' - ')\n",
    "    y = y[1] if 'District' not in y[1] else y[0]\n",
    "    return y\n",
    "\n",
    "g['rental_area'] = g['rental_area'].map(clean)\n",
    "\n",
    "\n",
    "f = f.merge(g[['au2001', 'rental_area']])\n",
    "\n",
    "path = hp.DATA_DIR/'processed'/'au2001.csv'\n",
    "f.to_csv(path, index=False)\n",
    "f.head()"
   ]
  },
  {
   "cell_type": "markdown",
   "metadata": {},
   "source": [
    "# Process area units and rental areas into GeoJSON"
   ]
  },
  {
   "cell_type": "code",
   "execution_count": null,
   "metadata": {
    "collapsed": true
   },
   "outputs": [],
   "source": [
    "# Read Shapefile\n",
    "\n",
    "path = hp.DATA_DIR/'collected'/'NZ_AU01_region_simplified'/'NZ_AU01_region.shp'\n",
    "au = gpd.read_file(str(path))\n",
    "au.crs = hp.CRS_NZGD49\n",
    "au = au.to_crs(hp.CRS_WGS84)\n",
    "au = au.rename(columns={'AU01': 'au2001', 'AU_DESC': 'au_name'})\n",
    "print(au.shape)\n",
    "print(au.head())\n",
    "au.head().plot()\n"
   ]
  },
  {
   "cell_type": "code",
   "execution_count": null,
   "metadata": {
    "collapsed": true
   },
   "outputs": [],
   "source": [
    "# Remove water area units\n",
    "\n",
    "pattern = r'ocean|strait|inlet|harbour'\n",
    "cond = au['au_name'].str.contains(pattern, case=False)\n",
    "au = au[~cond].copy()\n",
    "print(au.shape)\n",
    "au.head().plot()\n"
   ]
  },
  {
   "cell_type": "code",
   "execution_count": null,
   "metadata": {
    "collapsed": true
   },
   "outputs": [],
   "source": [
    "# Merge geodata and metadata, drop null regions, and write to file\n",
    "\n",
    "path = hp.DATA_DIR/'au2001.csv'\n",
    "f = pd.read_csv(path, dtype={'au2001': str})\n",
    "\n",
    "g = au.merge(f[['au2001', 'territory', 'region', 'rental_area']])\n",
    "g = g[g['region'].notnull()].copy()\n",
    "\n",
    "path = hp.DATA_DIR/'processed'/'au2001.geojson'\n",
    "with path.open('w') as tgt:\n",
    "    tgt.write(g.to_json())\n",
    "\n",
    "g.head()"
   ]
  },
  {
   "cell_type": "markdown",
   "metadata": {},
   "source": [
    "# Create geodata for rental areas "
   ]
  },
  {
   "cell_type": "code",
   "execution_count": null,
   "metadata": {
    "collapsed": true
   },
   "outputs": [],
   "source": [
    "# Dissolve area units by area unit group\n",
    "\n",
    "path = hp.DATA_DIR/'au2001.geojson'\n",
    "au = gpd.read_file(str(path))\n",
    "\n",
    "ra = au[['rental_area', 'region', 'territory', 'geometry']].dissolve(by='rental_area').reset_index()\n",
    "\n",
    "path = hp.DATA_DIR/'processed'/'rental_areas.geojson'\n",
    "with path.open('w') as tgt:\n",
    "    tgt.write(ra.to_json())\n",
    "\n",
    "ra.head()"
   ]
  },
  {
   "cell_type": "markdown",
   "metadata": {},
   "source": [
    "# Choose representative points for rental areas using approximate centroids of property titles"
   ]
  },
  {
   "cell_type": "code",
   "execution_count": null,
   "metadata": {
    "collapsed": true
   },
   "outputs": [],
   "source": [
    "path = hp.DATA_DIR/'processed'/'rental_areas.geojson'\n",
    "ra = gpd.read_file(str(path))\n",
    "\n",
    "path = hp.DATA_DIR/'processed'/'property_titles.geojson'\n",
    "t = gpd.read_file(str(path))\n",
    "t.head()"
   ]
  },
  {
   "cell_type": "code",
   "execution_count": 5,
   "metadata": {},
   "outputs": [
    {
     "ename": "NameError",
     "evalue": "name 't' is not defined",
     "output_type": "error",
     "traceback": [
      "\u001b[0;31m---------------------------------------------------------------------------\u001b[0m",
      "\u001b[0;31mNameError\u001b[0m                                 Traceback (most recent call last)",
      "\u001b[0;32m<timed exec>\u001b[0m in \u001b[0;36m<module>\u001b[0;34m()\u001b[0m\n",
      "\u001b[0;31mNameError\u001b[0m: name 't' is not defined"
     ]
    },
    {
     "data": {
      "text/html": [
       "<div>\n",
       "<style>\n",
       "    .dataframe thead tr:only-child th {\n",
       "        text-align: right;\n",
       "    }\n",
       "\n",
       "    .dataframe thead th {\n",
       "        text-align: left;\n",
       "    }\n",
       "\n",
       "    .dataframe tbody tr th {\n",
       "        vertical-align: top;\n",
       "    }\n",
       "</style>\n",
       "<table border=\"1\" class=\"dataframe\">\n",
       "  <thead>\n",
       "    <tr style=\"text-align: right;\">\n",
       "      <th></th>\n",
       "      <th>au2001</th>\n",
       "      <th>property_type</th>\n",
       "      <th>#bedrooms</th>\n",
       "      <th>quarter</th>\n",
       "      <th>rent_count</th>\n",
       "      <th>rent_mean</th>\n",
       "      <th>rent_geo_mean</th>\n",
       "      <th>rent_synthetic_lower_quartile</th>\n",
       "      <th>rent_synthetic_upper_quartile</th>\n",
       "      <th>au_name</th>\n",
       "      <th>territory</th>\n",
       "      <th>region</th>\n",
       "      <th>rental_area</th>\n",
       "    </tr>\n",
       "  </thead>\n",
       "  <tbody>\n",
       "    <tr>\n",
       "      <th>550378</th>\n",
       "      <td>563701</td>\n",
       "      <td>Flat or Apartment</td>\n",
       "      <td>1</td>\n",
       "      <td>1993-03-01</td>\n",
       "      <td>NaN</td>\n",
       "      <td>NaN</td>\n",
       "      <td>NaN</td>\n",
       "      <td>NaN</td>\n",
       "      <td>NaN</td>\n",
       "      <td>Waikanae Beach</td>\n",
       "      <td>Kapiti Coast District</td>\n",
       "      <td>Wellington</td>\n",
       "      <td>Waikanae/Otaki</td>\n",
       "    </tr>\n",
       "    <tr>\n",
       "      <th>550379</th>\n",
       "      <td>563701</td>\n",
       "      <td>Flat or Apartment</td>\n",
       "      <td>2</td>\n",
       "      <td>1993-03-01</td>\n",
       "      <td>NaN</td>\n",
       "      <td>NaN</td>\n",
       "      <td>NaN</td>\n",
       "      <td>NaN</td>\n",
       "      <td>NaN</td>\n",
       "      <td>Waikanae Beach</td>\n",
       "      <td>Kapiti Coast District</td>\n",
       "      <td>Wellington</td>\n",
       "      <td>Waikanae/Otaki</td>\n",
       "    </tr>\n",
       "    <tr>\n",
       "      <th>550380</th>\n",
       "      <td>563701</td>\n",
       "      <td>House</td>\n",
       "      <td>1</td>\n",
       "      <td>1993-03-01</td>\n",
       "      <td>NaN</td>\n",
       "      <td>NaN</td>\n",
       "      <td>NaN</td>\n",
       "      <td>NaN</td>\n",
       "      <td>NaN</td>\n",
       "      <td>Waikanae Beach</td>\n",
       "      <td>Kapiti Coast District</td>\n",
       "      <td>Wellington</td>\n",
       "      <td>Waikanae/Otaki</td>\n",
       "    </tr>\n",
       "    <tr>\n",
       "      <th>550381</th>\n",
       "      <td>563701</td>\n",
       "      <td>House</td>\n",
       "      <td>2</td>\n",
       "      <td>1993-03-01</td>\n",
       "      <td>6.0</td>\n",
       "      <td>128.0</td>\n",
       "      <td>127.0</td>\n",
       "      <td>115.0</td>\n",
       "      <td>139.0</td>\n",
       "      <td>Waikanae Beach</td>\n",
       "      <td>Kapiti Coast District</td>\n",
       "      <td>Wellington</td>\n",
       "      <td>Waikanae/Otaki</td>\n",
       "    </tr>\n",
       "    <tr>\n",
       "      <th>550382</th>\n",
       "      <td>563701</td>\n",
       "      <td>House</td>\n",
       "      <td>3</td>\n",
       "      <td>1993-03-01</td>\n",
       "      <td>8.0</td>\n",
       "      <td>159.0</td>\n",
       "      <td>158.0</td>\n",
       "      <td>142.0</td>\n",
       "      <td>175.0</td>\n",
       "      <td>Waikanae Beach</td>\n",
       "      <td>Kapiti Coast District</td>\n",
       "      <td>Wellington</td>\n",
       "      <td>Waikanae/Otaki</td>\n",
       "    </tr>\n",
       "  </tbody>\n",
       "</table>\n",
       "</div>"
      ],
      "text/plain": [
       "        au2001      property_type #bedrooms     quarter  rent_count  \\\n",
       "550378  563701  Flat or Apartment         1  1993-03-01         NaN   \n",
       "550379  563701  Flat or Apartment         2  1993-03-01         NaN   \n",
       "550380  563701              House         1  1993-03-01         NaN   \n",
       "550381  563701              House         2  1993-03-01         6.0   \n",
       "550382  563701              House         3  1993-03-01         8.0   \n",
       "\n",
       "        rent_mean  rent_geo_mean  rent_synthetic_lower_quartile  \\\n",
       "550378        NaN            NaN                            NaN   \n",
       "550379        NaN            NaN                            NaN   \n",
       "550380        NaN            NaN                            NaN   \n",
       "550381      128.0          127.0                          115.0   \n",
       "550382      159.0          158.0                          142.0   \n",
       "\n",
       "        rent_synthetic_upper_quartile         au_name              territory  \\\n",
       "550378                            NaN  Waikanae Beach  Kapiti Coast District   \n",
       "550379                            NaN  Waikanae Beach  Kapiti Coast District   \n",
       "550380                            NaN  Waikanae Beach  Kapiti Coast District   \n",
       "550381                          139.0  Waikanae Beach  Kapiti Coast District   \n",
       "550382                          175.0  Waikanae Beach  Kapiti Coast District   \n",
       "\n",
       "            region     rental_area  \n",
       "550378  Wellington  Waikanae/Otaki  \n",
       "550379  Wellington  Waikanae/Otaki  \n",
       "550380  Wellington  Waikanae/Otaki  \n",
       "550381  Wellington  Waikanae/Otaki  \n",
       "550382  Wellington  Waikanae/Otaki  "
      ]
     },
     "execution_count": 5,
     "metadata": {},
     "output_type": "execute_result"
    }
   ],
   "source": [
    "# Spatial-join titles to rental areas\n",
    "\n",
    "%time f = gpd.sjoin(t[['geometry', 'fid']], ra, op='intersects')\n",
    "f.head()"
   ]
  },
  {
   "cell_type": "code",
   "execution_count": null,
   "metadata": {
    "collapsed": true
   },
   "outputs": [],
   "source": [
    "# Choose representative points for rental areas\n",
    "\n",
    "def pt(group):\n",
    "    d = {}\n",
    "    d['geometry'] = so.unary_union(group['geometry']).representative_point()\n",
    "    d['territory'] = group['territory'].iat[0]\n",
    "    d['region'] = group['region'].iat[0]\n",
    "    return pd.Series(d)\n",
    "\n",
    "g = gpd.GeoDataFrame(f.groupby('rental_area').apply(pt).reset_index())\n",
    "\n",
    "path = hp.DATA_DIR/'processed'/'rental_points.geojson'\n",
    "with path.open('w') as tgt:\n",
    "    tgt.write(g.to_json())\n",
    "\n",
    "g.head()"
   ]
  },
  {
   "cell_type": "markdown",
   "metadata": {},
   "source": [
    "# Prepare regional slices of data"
   ]
  },
  {
   "cell_type": "code",
   "execution_count": 3,
   "metadata": {
    "collapsed": true
   },
   "outputs": [],
   "source": [
    "path = hp.DATA_DIR/'processed'/'rental_areas.geojson'\n",
    "ra = gpd.read_file(str(path))\n",
    "\n",
    "path = hp.DATA_DIR/'processed'/'rental_points.geojson'\n",
    "rap = gpd.read_file(str(path))\n",
    "\n",
    "for region in hp.REGIONS:\n",
    "    root = hp.get_path(region)\n",
    "    if not root.exists():\n",
    "        root.mkdir()\n",
    "        \n",
    "    region_c = region.capitalize()\n",
    "\n",
    "    # Rental areas slice\n",
    "    f = ra[ra['region'] == region_c].copy()\n",
    "    path = hp.get_path(region, 'rental_areas')\n",
    "    with path.open('w') as tgt:\n",
    "        tgt.write(f.to_json())\n",
    "        \n",
    "    # Rental area points slice\n",
    "    f = rap[rap['region'] == region_c].copy()\n",
    "    path = hp.get_path(region, 'rental_points')\n",
    "    with path.open('w') as tgt:\n",
    "        tgt.write(f.to_json())\n",
    "        "
   ]
  },
  {
   "cell_type": "code",
   "execution_count": null,
   "metadata": {
    "collapsed": true
   },
   "outputs": [],
   "source": []
  }
 ],
 "metadata": {
  "kernelspec": {
   "display_name": "Python 3",
   "language": "python",
   "name": "python3"
  },
  "language_info": {
   "codemirror_mode": {
    "name": "ipython",
    "version": 3
   },
   "file_extension": ".py",
   "mimetype": "text/x-python",
   "name": "python",
   "nbconvert_exporter": "python",
   "pygments_lexer": "ipython3",
   "version": "3.5.2"
  }
 },
 "nbformat": 4,
 "nbformat_minor": 2
}
